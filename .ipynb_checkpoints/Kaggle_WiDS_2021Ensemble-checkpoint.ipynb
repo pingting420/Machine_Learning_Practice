{
 "cells": [
  {
   "cell_type": "code",
   "execution_count": null,
   "metadata": {
    "_cell_guid": "b1076dfc-b9ad-4769-8c92-a6c4dae69d19",
    "_uuid": "8f2839f25d086af736a60e9eeb907d3b93b6e0e5"
   },
   "outputs": [],
   "source": [
    "import numpy as np # linear algebra\n",
    "import pandas as pd # data processing, CSV file I/O (e.g. pd.read_csv)\n",
    "import os"
   ]
  },
  {
   "cell_type": "code",
   "execution_count": null,
   "metadata": {},
   "outputs": [],
   "source": [
    "path = '/kaggle/input/to-ensemble/'\n",
    "#csv_ls = [f for f in os.listdir(path) if f.endswith('.csv')]\n",
    "csv_ls = ['submission_0.87122.csv', 'submission_0.87118.csv', 'submission_0.87100.csv']"
   ]
  },
  {
   "cell_type": "code",
   "execution_count": null,
   "metadata": {},
   "outputs": [],
   "source": [
    "preds = np.empty((len(csv_ls), 10234))\n",
    "for i, csv in enumerate(csv_ls):\n",
    "    df = pd.read_csv(os.path.join(path, csv))\n",
    "    assert df.shape==(10234, 2), 'File {} has the wrong shape'.format(csv)\n",
    "    preds[i,:] = df['diabetes_mellitus'].values\n",
    "                 \n",
    "#hmean_pred = np.power(np.prod(preds, axis=0), 1/len(csv_ls))\n",
    "mean_pred = np.mean(preds, axis=0)"
   ]
  },
  {
   "cell_type": "code",
   "execution_count": null,
   "metadata": {},
   "outputs": [],
   "source": [
    "df = pd.read_csv(os.path.join(path, 'submission_0.87285.csv'))\n",
    "high_pred = df['diabetes_mellitus'].values\n",
    "\n",
    "final_pred = mean_pred * 0.3 + high_pred * 0.7"
   ]
  },
  {
   "cell_type": "code",
   "execution_count": null,
   "metadata": {},
   "outputs": [],
   "source": [
    "((1 - high_pred) * 0.3 + (1 - mean_pred) * 0.7)"
   ]
  },
  {
   "cell_type": "code",
   "execution_count": null,
   "metadata": {},
   "outputs": [],
   "source": [
    "high_pred # 0.87285"
   ]
  },
  {
   "cell_type": "code",
   "execution_count": null,
   "metadata": {},
   "outputs": [],
   "source": [
    "mean_pred # after ensembling with high_pred, get 0.87267"
   ]
  },
  {
   "cell_type": "code",
   "execution_count": null,
   "metadata": {},
   "outputs": [],
   "source": [
    "x = high_pred * 1.1 - mean_pred * 0.1\n",
    "x[x>1] = 1"
   ]
  },
  {
   "cell_type": "code",
   "execution_count": null,
   "metadata": {},
   "outputs": [],
   "source": [
    "(x>high_pred).sum()"
   ]
  },
  {
   "cell_type": "code",
   "execution_count": null,
   "metadata": {},
   "outputs": [],
   "source": [
    "high_pred.min()"
   ]
  },
  {
   "cell_type": "code",
   "execution_count": null,
   "metadata": {},
   "outputs": [],
   "source": [
    "mean_pred.min()"
   ]
  },
  {
   "cell_type": "code",
   "execution_count": null,
   "metadata": {},
   "outputs": [],
   "source": [
    "submission = pd.read_csv('/kaggle/input/widsdatathon2021/UnlabeledWiDS2021.csv', usecols=['encounter_id'])\n",
    "submission['diabetes_mellitus'] = final_pred\n",
    "submission.to_csv(\"final.csv\", header=True, index=False)"
   ]
  },
  {
   "cell_type": "code",
   "execution_count": null,
   "metadata": {},
   "outputs": [],
   "source": [
    "submission1 = pd.read_csv('/kaggle/input/widsdatathon2021/UnlabeledWiDS2021.csv', usecols=['encounter_id'])\n",
    "submission1['diabetes_mellitus'] = mean_pred\n",
    "submission1.to_csv(\"mean.csv\", header=True, index=False)"
   ]
  },
  {
   "cell_type": "code",
   "execution_count": null,
   "metadata": {},
   "outputs": [],
   "source": [
    "submission2 = pd.read_csv('/kaggle/input/widsdatathon2021/UnlabeledWiDS2021.csv', usecols=['encounter_id'])\n",
    "submission2['diabetes_mellitus'] = hmean_pred\n",
    "submission2.to_csv(\"hmean2.csv\", header=True, index=False)"
   ]
  },
  {
   "cell_type": "code",
   "execution_count": null,
   "metadata": {},
   "outputs": [],
   "source": [
    "import matplotlib.pyplot as plt\n",
    "%matplotlib inline\n",
    "\n",
    "plt.hist(high_pred)"
   ]
  },
  {
   "cell_type": "code",
   "execution_count": null,
   "metadata": {},
   "outputs": [],
   "source": [
    "plt.hist(mean_pred)"
   ]
  },
  {
   "cell_type": "code",
   "execution_count": null,
   "metadata": {},
   "outputs": [],
   "source": [
    "plt.hist(x)"
   ]
  },
  {
   "cell_type": "code",
   "execution_count": null,
   "metadata": {},
   "outputs": [],
   "source": [
    "y = high_pred * 1.1 - mean_pred * 0.1\n",
    "for i in range(len(y)):\n",
    "    if y[i]>1:\n",
    "        y[i] *= 0.85\n"
   ]
  },
  {
   "cell_type": "code",
   "execution_count": null,
   "metadata": {},
   "outputs": [],
   "source": [
    "plt.hist(high_pred * 1.1 - mean_pred * 0.1)"
   ]
  },
  {
   "cell_type": "code",
   "execution_count": null,
   "metadata": {},
   "outputs": [],
   "source": [
    "plt.hist(y)"
   ]
  },
  {
   "cell_type": "code",
   "execution_count": null,
   "metadata": {},
   "outputs": [],
   "source": []
  }
 ],
 "metadata": {
  "kernelspec": {
   "display_name": "Python 3",
   "language": "python",
   "name": "python3"
  },
  "language_info": {
   "codemirror_mode": {
    "name": "ipython",
    "version": 3
   },
   "file_extension": ".py",
   "mimetype": "text/x-python",
   "name": "python",
   "nbconvert_exporter": "python",
   "pygments_lexer": "ipython3",
   "version": "3.9.2"
  }
 },
 "nbformat": 4,
 "nbformat_minor": 4
}
