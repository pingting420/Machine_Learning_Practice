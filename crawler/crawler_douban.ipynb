{
 "cells": [
  {
   "cell_type": "code",
   "execution_count": 1,
   "metadata": {},
   "outputs": [],
   "source": [
    "import requests\n",
    "import json"
   ]
  },
  {
   "cell_type": "code",
   "execution_count": 3,
   "metadata": {},
   "outputs": [
    {
     "name": "stdout",
     "output_type": "stream",
     "text": [
      "over!!!\n"
     ]
    }
   ],
   "source": [
    "if __name__ == '__main__':\n",
    "    url='https://movie.douban.com/j/chart/top_list'\n",
    "    param={\n",
    "        'type': '24',\n",
    "        'interval_id': '100:90',\n",
    "        'action':'' ,\n",
    "        'start': '1',#start表示从库中第几个电影开始取，limit表示一次请求取出的个数#\n",
    "        'limit': '20',\n",
    "    }\n",
    "    headers={\n",
    "        'User-Agent':'Mozilla/5.0 (Macintosh; Intel Mac OS X 11_2_0) AppleWebKit/537.36 (KHTML, like Gecko) Chrome/88.0.4324.192 Safari/537.36'\n",
    "    }\n",
    "    response = requests.get(url=url,params=param,headers=headers)\n",
    "    list_data = response.json()\n",
    "    fp = open('./douban.json','w',encoding='utf-8')\n",
    "    json.dump(list_data,fp=fp,ensure_ascii=False)\n",
    "    print('over!!!')"
   ]
  },
  {
   "cell_type": "code",
   "execution_count": null,
   "metadata": {},
   "outputs": [],
   "source": []
  }
 ],
 "metadata": {
  "kernelspec": {
   "display_name": "Python 3",
   "language": "python",
   "name": "python3"
  },
  "language_info": {
   "codemirror_mode": {
    "name": "ipython",
    "version": 3
   },
   "file_extension": ".py",
   "mimetype": "text/x-python",
   "name": "python",
   "nbconvert_exporter": "python",
   "pygments_lexer": "ipython3",
   "version": "3.8.5"
  }
 },
 "nbformat": 4,
 "nbformat_minor": 4
}
