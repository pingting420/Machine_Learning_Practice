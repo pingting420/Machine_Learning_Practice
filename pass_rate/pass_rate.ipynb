{
 "cells": [
  {
   "cell_type": "raw",
   "metadata": {},
   "source": [
    "#Testing if the student pass the exam"
   ]
  },
  {
   "cell_type": "code",
   "execution_count": 1,
   "metadata": {},
   "outputs": [
    {
     "data": {
      "text/html": [
       "<div>\n",
       "<style scoped>\n",
       "    .dataframe tbody tr th:only-of-type {\n",
       "        vertical-align: middle;\n",
       "    }\n",
       "\n",
       "    .dataframe tbody tr th {\n",
       "        vertical-align: top;\n",
       "    }\n",
       "\n",
       "    .dataframe thead th {\n",
       "        text-align: right;\n",
       "    }\n",
       "</style>\n",
       "<table border=\"1\" class=\"dataframe\">\n",
       "  <thead>\n",
       "    <tr style=\"text-align: right;\">\n",
       "      <th></th>\n",
       "      <th>Exam1</th>\n",
       "      <th>Exam2</th>\n",
       "      <th>Pass</th>\n",
       "    </tr>\n",
       "  </thead>\n",
       "  <tbody>\n",
       "    <tr>\n",
       "      <th>0</th>\n",
       "      <td>34.623660</td>\n",
       "      <td>78.024693</td>\n",
       "      <td>0</td>\n",
       "    </tr>\n",
       "    <tr>\n",
       "      <th>1</th>\n",
       "      <td>30.286711</td>\n",
       "      <td>43.894998</td>\n",
       "      <td>0</td>\n",
       "    </tr>\n",
       "    <tr>\n",
       "      <th>2</th>\n",
       "      <td>35.847409</td>\n",
       "      <td>72.902198</td>\n",
       "      <td>0</td>\n",
       "    </tr>\n",
       "    <tr>\n",
       "      <th>3</th>\n",
       "      <td>60.182599</td>\n",
       "      <td>86.308552</td>\n",
       "      <td>1</td>\n",
       "    </tr>\n",
       "    <tr>\n",
       "      <th>4</th>\n",
       "      <td>79.032736</td>\n",
       "      <td>75.344376</td>\n",
       "      <td>1</td>\n",
       "    </tr>\n",
       "  </tbody>\n",
       "</table>\n",
       "</div>"
      ],
      "text/plain": [
       "       Exam1      Exam2  Pass\n",
       "0  34.623660  78.024693     0\n",
       "1  30.286711  43.894998     0\n",
       "2  35.847409  72.902198     0\n",
       "3  60.182599  86.308552     1\n",
       "4  79.032736  75.344376     1"
      ]
     },
     "execution_count": 1,
     "metadata": {},
     "output_type": "execute_result"
    }
   ],
   "source": [
    "#load the data\n",
    "import pandas as pd\n",
    "import numpy as np\n",
    "data = pd.read_csv('examdata.csv')\n",
    "data.head()"
   ]
  },
  {
   "cell_type": "code",
   "execution_count": 2,
   "metadata": {},
   "outputs": [
    {
     "data": {
      "image/png": "[encoded data removed]",
      "text/plain": [
       "<Figure size 432x288 with 1 Axes>"
      ]
     },
     "metadata": {
      "needs_background": "light"
     },
     "output_type": "display_data"
    }
   ],
   "source": [
    "#visualize the data\n",
    "%matplotlib inline \n",
    "from matplotlib import pyplot as plt\n",
    "fig1 = plt.figure()\n",
    "plt.scatter(data.loc[:,'Exam1'],data.loc[:,'Exam2'])\n",
    "plt.title('Exam1-Exam2')\n",
    "plt.xlabel('Exam1')\n",
    "plt.ylabel('Exam2')\n",
    "plt.show()"
   ]
  },
  {
   "cell_type": "code",
   "execution_count": 3,
   "metadata": {},
   "outputs": [
    {
     "name": "stdout",
     "output_type": "stream",
     "text": [
      "0      True\n",
      "1      True\n",
      "2      True\n",
      "3     False\n",
      "4     False\n",
      "      ...  \n",
      "95    False\n",
      "96    False\n",
      "97    False\n",
      "98    False\n",
      "99    False\n",
      "Name: Pass, Length: 100, dtype: bool\n"
     ]
    }
   ],
   "source": [
    "#add label mask\n",
    "mask=data.loc[:,'Pass']==1\n",
    "print(~mask)"
   ]
  },
  {
   "cell_type": "code",
   "execution_count": 4,
   "metadata": {},
   "outputs": [
    {
     "data": {
      "image/png": "[encoded data removed]",
      "text/plain": [
       "<Figure size 432x288 with 1 Axes>"
      ]
     },
     "metadata": {
      "needs_background": "light"
     },
     "output_type": "display_data"
    }
   ],
   "source": [
    "fig2 = plt.figure()\n",
    "passed=plt.scatter(data.loc[:,'Exam1'][mask],data.loc[:,'Exam2'][mask])\n",
    "failed=plt.scatter(data.loc[:,'Exam1'][~mask],data.loc[:,'Exam2'][~mask])\n",
    "plt.title('Exam1-Exam2')\n",
    "plt.xlabel('Exam1')\n",
    "plt.ylabel('Exam2')\n",
    "plt.legend((passed,failed),('passed','failed'))\n",
    "plt.show()"
   ]
  },
  {
   "cell_type": "code",
   "execution_count": 5,
   "metadata": {},
   "outputs": [
    {
     "data": {
      "text/plain": [
       "0    34.623660\n",
       "1    30.286711\n",
       "2    35.847409\n",
       "3    60.182599\n",
       "4    79.032736\n",
       "Name: Exam1, dtype: float64"
      ]
     },
     "execution_count": 5,
     "metadata": {},
     "output_type": "execute_result"
    }
   ],
   "source": [
    "#dafine X,y\n",
    "X = data.drop(['Pass'],axis=1)\n",
    "y = data.loc[:,'Pass']\n",
    "X1 = data.loc[:,'Exam1']\n",
    "X2 = data.loc[:,'Exam2']\n",
    "X1.head()"
   ]
  },
  {
   "cell_type": "code",
   "execution_count": 6,
   "metadata": {},
   "outputs": [
    {
     "name": "stdout",
     "output_type": "stream",
     "text": [
      "(100, 2) (100,)\n"
     ]
    }
   ],
   "source": [
    "print(X.shape,y.shape)"
   ]
  },
  {
   "cell_type": "code",
   "execution_count": 7,
   "metadata": {},
   "outputs": [
    {
     "data": {
      "text/plain": [
       "LogisticRegression(C=1.0, class_weight=None, dual=False, fit_intercept=True,\n",
       "                   intercept_scaling=1, l1_ratio=None, max_iter=100,\n",
       "                   multi_class='auto', n_jobs=None, penalty='l2',\n",
       "                   random_state=None, solver='lbfgs', tol=0.0001, verbose=0,\n",
       "                   warm_start=False)"
      ]
     },
     "execution_count": 7,
     "metadata": {},
     "output_type": "execute_result"
    }
   ],
   "source": [
    "#establish the model and train it\n",
    "from sklearn.linear_model import LogisticRegression\n",
    "LR = LogisticRegression()\n",
    "LR.fit(X,y)"
   ]
  },
  {
   "cell_type": "code",
   "execution_count": 8,
   "metadata": {},
   "outputs": [
    {
     "name": "stdout",
     "output_type": "stream",
     "text": [
      "[0 0 0 1 1 0 1 0 1 1 1 0 1 1 0 1 0 0 1 1 0 1 0 0 1 1 1 1 0 0 1 1 0 0 0 0 1\n",
      " 1 0 0 1 0 1 1 0 0 1 1 1 1 1 1 1 0 0 0 1 1 1 1 1 0 0 0 0 0 1 0 1 1 0 1 1 1\n",
      " 1 1 1 1 0 1 1 1 1 0 1 1 0 1 1 0 1 1 0 1 1 1 1 1 0 1]\n"
     ]
    }
   ],
   "source": [
    "#show the predicted result and its accuracy\n",
    "y_predict = LR.predict(X)\n",
    "print(y_predict)"
   ]
  },
  {
   "cell_type": "code",
   "execution_count": 9,
   "metadata": {},
   "outputs": [
    {
     "name": "stdout",
     "output_type": "stream",
     "text": [
      "0.89\n"
     ]
    }
   ],
   "source": [
    "from sklearn.metrics import accuracy_score\n",
    "accuracy =  accuracy_score(y,y_predict)\n",
    "print(accuracy)"
   ]
  },
  {
   "cell_type": "code",
   "execution_count": 10,
   "metadata": {},
   "outputs": [
    {
     "name": "stdout",
     "output_type": "stream",
     "text": [
      "passed\n"
     ]
    }
   ],
   "source": [
    "#exam1=70,exam2=65\n",
    "y_test = LR.predict([[70,65]])\n",
    "print('passed' if y_test==1 else 'failed')"
   ]
  },
  {
   "cell_type": "code",
   "execution_count": 11,
   "metadata": {},
   "outputs": [
    {
     "data": {
      "text/plain": [
       "array([-25.05219314])"
      ]
     },
     "execution_count": 11,
     "metadata": {},
     "output_type": "execute_result"
    }
   ],
   "source": [
    "LR.intercept_"
   ]
  },
  {
   "cell_type": "code",
   "execution_count": 12,
   "metadata": {},
   "outputs": [
    {
     "name": "stdout",
     "output_type": "stream",
     "text": [
      "[-25.05219314] 0.2053549121779039 0.2005838039546905\n"
     ]
    }
   ],
   "source": [
    "theta0 = LR.intercept_\n",
    "theta1,theta2 = LR.coef_[0][0],LR.coef_[0][1]\n",
    "print(theta0,theta1,theta2)"
   ]
  },
  {
   "cell_type": "code",
   "execution_count": 13,
   "metadata": {},
   "outputs": [
    {
     "name": "stdout",
     "output_type": "stream",
     "text": [
      "0     89.449169\n",
      "1     93.889277\n",
      "2     88.196312\n",
      "3     63.282281\n",
      "4     43.983773\n",
      "        ...    \n",
      "95    39.421346\n",
      "96    81.629448\n",
      "97    23.219064\n",
      "98    68.240049\n",
      "99    48.341870\n",
      "Name: Exam1, Length: 100, dtype: float64\n"
     ]
    }
   ],
   "source": [
    "X2_new = -(theta0+theta1*X1)/theta2\n",
    "print(X2_new)"
   ]
  },
  {
   "cell_type": "code",
   "execution_count": 14,
   "metadata": {},
   "outputs": [
    {
     "data": {
      "image/png": "[encoded data removed]",
      "text/plain": [
       "<Figure size 432x288 with 1 Axes>"
      ]
     },
     "metadata": {
      "needs_background": "light"
     },
     "output_type": "display_data"
    }
   ],
   "source": [
    "fig3 = plt.figure()\n",
    "passed=plt.scatter(data.loc[:,'Exam1'][mask],data.loc[:,'Exam2'][mask])\n",
    "failed=plt.scatter(data.loc[:,'Exam1'][~mask],data.loc[:,'Exam2'][~mask])\n",
    "plt.plot(X1,X2_new)\n",
    "plt.title('Exam1-Exam2')\n",
    "plt.xlabel('Exam1')\n",
    "plt.ylabel('Exam2')\n",
    "plt.legend((passed,failed),('passed','failed'))\n",
    "plt.show()\n"
   ]
  },
  {
   "cell_type": "markdown",
   "metadata": {},
   "source": [
    "边界函数： $\\theta_0 + \\theta_1 X_1 + \\theta_2 X_2 = 0$"
   ]
  },
  {
   "cell_type": "markdown",
   "metadata": {},
   "source": [
    "![linear_boundary.png](images/linear_boundary.png)"
   ]
  },
  {
   "cell_type": "markdown",
   "metadata": {},
   "source": [
    "边界函数： $\\theta_0 + \\theta_1 X_1 + \\theta_2 X_2 = 0$\n",
    "\n",
    "二阶边界函数：$\\theta_0 + \\theta_1 X_1 + \\theta_2 X_2+ \\theta_3 X_1^2 + \\theta_4 X_2^2 + \\theta_5 X_1 X_2 = 0$"
   ]
  },
  {
   "cell_type": "code",
   "execution_count": 15,
   "metadata": {},
   "outputs": [],
   "source": [
    "#create new data\n",
    "X1_2 = X1*X1\n",
    "X2_2 = X2*X2\n",
    "X1_X2 = X1*X2"
   ]
  },
  {
   "cell_type": "code",
   "execution_count": 16,
   "metadata": {},
   "outputs": [
    {
     "name": "stdout",
     "output_type": "stream",
     "text": [
      "           X1         X2         X1_2         X2_2        X1_X2\n",
      "0   34.623660  78.024693  1198.797805  6087.852690  2701.500406\n",
      "1   30.286711  43.894998   917.284849  1926.770807  1329.435094\n",
      "2   35.847409  72.902198  1285.036716  5314.730478  2613.354893\n",
      "3   60.182599  86.308552  3621.945269  7449.166166  5194.273015\n",
      "4   79.032736  75.344376  6246.173368  5676.775061  5954.672216\n",
      "..        ...        ...          ...          ...          ...\n",
      "95  83.489163  48.380286  6970.440295  2340.652054  4039.229555\n",
      "96  42.261701  87.103851  1786.051355  7587.080849  3681.156888\n",
      "97  99.315009  68.775409  9863.470975  4730.056948  6830.430397\n",
      "98  55.340018  64.931938  3062.517544  4216.156574  3593.334590\n",
      "99  74.775893  89.529813  5591.434174  8015.587398  6694.671710\n",
      "\n",
      "[100 rows x 5 columns]\n"
     ]
    }
   ],
   "source": [
    "X_new = {'X1':X1,'X2':X2,'X1_2':X1_2,'X2_2':X2_2,'X1_X2':X1_X2}\n",
    "X_new = pd.DataFrame(X_new)\n",
    "print(X_new)"
   ]
  },
  {
   "cell_type": "code",
   "execution_count": 17,
   "metadata": {},
   "outputs": [
    {
     "data": {
      "text/plain": [
       "LogisticRegression(C=1.0, class_weight=None, dual=False, fit_intercept=True,\n",
       "                   intercept_scaling=1, l1_ratio=None, max_iter=100,\n",
       "                   multi_class='auto', n_jobs=None, penalty='l2',\n",
       "                   random_state=None, solver='lbfgs', tol=0.0001, verbose=0,\n",
       "                   warm_start=False)"
      ]
     },
     "execution_count": 17,
     "metadata": {},
     "output_type": "execute_result"
    }
   ],
   "source": [
    "#establish new model and train\n",
    "LR2 = LogisticRegression()\n",
    "LR2.fit(X_new,y)"
   ]
  },
  {
   "cell_type": "code",
   "execution_count": 18,
   "metadata": {},
   "outputs": [
    {
     "name": "stdout",
     "output_type": "stream",
     "text": [
      "1.0\n"
     ]
    }
   ],
   "source": [
    "y2_predict = LR2.predict(X_new)\n",
    "accuracy2 = accuracy_score(y,y2_predict)\n",
    "print(accuracy2)"
   ]
  },
  {
   "cell_type": "code",
   "execution_count": 19,
   "metadata": {},
   "outputs": [
    {
     "name": "stdout",
     "output_type": "stream",
     "text": [
      "0     34.623660\n",
      "1     30.286711\n",
      "2     35.847409\n",
      "3     60.182599\n",
      "4     79.032736\n",
      "        ...    \n",
      "95    83.489163\n",
      "96    42.261701\n",
      "97    99.315009\n",
      "98    55.340018\n",
      "99    74.775893\n",
      "Name: Exam1, Length: 100, dtype: float64 63    30.058822\n",
      "1     30.286711\n",
      "57    32.577200\n",
      "70    32.722833\n",
      "36    33.915500\n",
      "        ...    \n",
      "56    97.645634\n",
      "47    97.771599\n",
      "51    99.272527\n",
      "97    99.315009\n",
      "75    99.827858\n",
      "Name: Exam1, Length: 100, dtype: float64\n"
     ]
    }
   ],
   "source": [
    "X1_new = X1.sort_values()\n",
    "print(X1,X1_new)"
   ]
  },
  {
   "cell_type": "markdown",
   "metadata": {},
   "source": [
    "边界函数： $\\theta_0 + \\theta_1 X_1 + \\theta_2 X_2 = 0$\n",
    "\n",
    "二阶边界函数：$\\theta_0 + \\theta_1 X_1 + \\theta_2 X_2+ \\theta_3 X_1^2 + \\theta_4 X_2^2 + \\theta_5 X_1 X_2 = 0$\n",
    "\n",
    "$a x^2 + b x + c=0: x1 = (-b+(b^2-4ac)^.5)/2a,x1 = (-b-(b^2-4ac)^.5)/2a$\n",
    "\n",
    "$\\theta_4 X_2^2 + (\\theta_5 X_1++ \\theta_2) X_2 + (\\theta_0 + \\theta_1 X_1 + \\theta_3 X_1^2)=0$"
   ]
  },
  {
   "cell_type": "code",
   "execution_count": 20,
   "metadata": {},
   "outputs": [
    {
     "name": "stdout",
     "output_type": "stream",
     "text": [
      "63    132.124249\n",
      "1     130.914667\n",
      "57    119.415258\n",
      "70    118.725082\n",
      "36    113.258684\n",
      "         ...    \n",
      "56     39.275712\n",
      "47     39.251001\n",
      "51     38.963585\n",
      "97     38.955634\n",
      "75     38.860426\n",
      "Name: Exam1, Length: 100, dtype: float64\n"
     ]
    }
   ],
   "source": [
    "theta0 = LR2.intercept_\n",
    "theta1,theta2,theta3,theta4,theta5 = LR2.coef_[0][0],LR2.coef_[0][1],LR2.coef_[0][2],LR2.coef_[0][3],LR2.coef_[0][4]\n",
    "a = theta4\n",
    "b = theta5*X1_new+theta2\n",
    "c = theta0+theta1*X1_new+theta3*X1_new*X1_new\n",
    "X2_new_boundary = (-b+np.sqrt(b*b-4*a*c))/(2*a)\n",
    "\n",
    "print(X2_new_boundary)"
   ]
  },
  {
   "cell_type": "code",
   "execution_count": 21,
   "metadata": {},
   "outputs": [
    {
     "data": {
      "image/png": "[encoded data removed]",
      "text/plain": [
       "<Figure size 432x288 with 1 Axes>"
      ]
     },
     "metadata": {
      "needs_background": "light"
     },
     "output_type": "display_data"
    },
    {
     "data": {
      "image/png": "[encoded data removed]",
      "text/plain": [
       "<Figure size 432x288 with 1 Axes>"
      ]
     },
     "metadata": {
      "needs_background": "light"
     },
     "output_type": "display_data"
    }
   ],
   "source": [
    "fig5 = plt.figure()\n",
    "passed=plt.scatter(data.loc[:,'Exam1'][mask],data.loc[:,'Exam2'][mask])\n",
    "failed=plt.scatter(data.loc[:,'Exam1'][~mask],data.loc[:,'Exam2'][~mask])\n",
    "plt.plot(X1_new,X2_new_boundary)\n",
    "plt.title('Exam1-Exam2')\n",
    "plt.xlabel('Exam1')\n",
    "plt.ylabel('Exam2')\n",
    "plt.legend((passed,failed),('passed','failed'))\n",
    "plt.show()\n",
    "\n",
    "plt.plot(X1_new,X2_new_boundary)\n",
    "plt.show()"
   ]
  },
  {
   "cell_type": "code",
   "execution_count": null,
   "metadata": {},
   "outputs": [],
   "source": []
  }
 ],
 "metadata": {
  "kernelspec": {
   "display_name": "Python 3",
   "language": "python",
   "name": "python3"
  },
  "language_info": {
   "codemirror_mode": {
    "name": "ipython",
    "version": 3
   },
   "file_extension": ".py",
   "mimetype": "text/x-python",
   "name": "python",
   "nbconvert_exporter": "python",
   "pygments_lexer": "ipython3",
   "version": "3.9.2"
  }
 },
 "nbformat": 4,
 "nbformat_minor": 1
}
